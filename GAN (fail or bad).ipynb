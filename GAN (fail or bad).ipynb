{
 "cells": [
  {
   "cell_type": "code",
   "execution_count": 42,
   "metadata": {},
   "outputs": [],
   "source": [
    "import wandb\n",
    "import lightning as L\n",
    "import torch\n",
    "import PIL\n",
    "import os\n",
    "import torchvision.transforms.v2 as v2\n",
    "from PIL import Image\n",
    "from lightning.pytorch.loggers import WandbLogger\n",
    "from torch.utils.data import DataLoader, Dataset, random_split\n",
    "from torchvision.utils import save_image\n",
    "import torch.nn as nn\n",
    "import torch.nn.functional as F\n",
    "import numpy as np"
   ]
  },
  {
   "cell_type": "code",
   "execution_count": 43,
   "metadata": {},
   "outputs": [
    {
     "data": {
      "text/plain": [
       "'\\nSources:\\nLightning GAN implementation\\nhttps://lightning.ai/docs/pytorch/stable/notebooks/lightning_examples/basic-gan.html\\n\\nWGAN paper\\nhttps://arxiv.org/abs/1701.07875\\n\\nWGAN with gradient penalty paper\\nhttps://arxiv.org/abs/1704.00028\\n\\nGAN implementations\\nhttps://github.com/eriklindernoren/PyTorch-GAN/tree/master\\n\\n'"
      ]
     },
     "execution_count": 43,
     "metadata": {},
     "output_type": "execute_result"
    }
   ],
   "source": [
    "\"\"\"\n",
    "Sources:\n",
    "Lightning GAN implementation\n",
    "https://lightning.ai/docs/pytorch/stable/notebooks/lightning_examples/basic-gan.html\n",
    "\n",
    "WGAN paper\n",
    "https://arxiv.org/abs/1701.07875\n",
    "\n",
    "WGAN with gradient penalty paper\n",
    "https://arxiv.org/abs/1704.00028\n",
    "\n",
    "GAN implementations\n",
    "https://github.com/eriklindernoren/PyTorch-GAN/tree/master\n",
    "\n",
    "\"\"\""
   ]
  },
  {
   "cell_type": "code",
   "execution_count": 44,
   "metadata": {},
   "outputs": [],
   "source": [
    "# Hyperparameters\n",
    "BATCH_SIZE = 32\n",
    "EPOCHS = 2000"
   ]
  },
  {
   "cell_type": "code",
   "execution_count": 45,
   "metadata": {},
   "outputs": [
    {
     "data": {
      "text/html": [
       "Tracking run with wandb version 0.18.7"
      ],
      "text/plain": [
       "<IPython.core.display.HTML object>"
      ]
     },
     "metadata": {},
     "output_type": "display_data"
    },
    {
     "data": {
      "text/html": [
       "Run data is saved locally in <code>./wandb/run-20250120_230436-e008jlc5</code>"
      ],
      "text/plain": [
       "<IPython.core.display.HTML object>"
      ]
     },
     "metadata": {},
     "output_type": "display_data"
    },
    {
     "data": {
      "text/html": [
       "Syncing run <strong><a href='https://wandb.ai/filip-szczepanski/GAN2/runs/e008jlc5' target=\"_blank\">bumbling-serenity-15</a></strong> to <a href='https://wandb.ai/filip-szczepanski/GAN2' target=\"_blank\">Weights & Biases</a> (<a href='https://wandb.me/developer-guide' target=\"_blank\">docs</a>)<br/>"
      ],
      "text/plain": [
       "<IPython.core.display.HTML object>"
      ]
     },
     "metadata": {},
     "output_type": "display_data"
    },
    {
     "data": {
      "text/html": [
       " View project at <a href='https://wandb.ai/filip-szczepanski/GAN2' target=\"_blank\">https://wandb.ai/filip-szczepanski/GAN2</a>"
      ],
      "text/plain": [
       "<IPython.core.display.HTML object>"
      ]
     },
     "metadata": {},
     "output_type": "display_data"
    },
    {
     "data": {
      "text/html": [
       " View run at <a href='https://wandb.ai/filip-szczepanski/GAN2/runs/e008jlc5' target=\"_blank\">https://wandb.ai/filip-szczepanski/GAN2/runs/e008jlc5</a>"
      ],
      "text/plain": [
       "<IPython.core.display.HTML object>"
      ]
     },
     "metadata": {},
     "output_type": "display_data"
    }
   ],
   "source": [
    "os.environ[\"WANDB_API_KEY\"] = \"47080269e7b1b5a51a89830cb24c495498237e77\"\n",
    "wandb.login()\n",
    "wandb_logger = WandbLogger(project=\"GAN2\")\n",
    "wandb_logger.experiment.config[\"batch_size\"] = BATCH_SIZE"
   ]
  },
  {
   "cell_type": "code",
   "execution_count": 46,
   "metadata": {},
   "outputs": [],
   "source": [
    "class FFHQDataset(Dataset):\n",
    "    def __init__(self, img_dir, transform=None):\n",
    "        self.img_dir = img_dir\n",
    "        self.transform = transform\n",
    "        self.images = [f for f in os.listdir(img_dir) if f.endswith(('.png', '.jpg', '.jpeg'))]\n",
    "\n",
    "    def __len__(self):\n",
    "        return len(self.images)\n",
    "\n",
    "    def __getitem__(self, idx):\n",
    "        img_path = os.path.join(self.img_dir, self.images[idx])\n",
    "        image = Image.open(img_path).convert('RGB')\n",
    "        \n",
    "        if self.transform:\n",
    "            image = self.transform(image)\n",
    "        \n",
    "        return image\n",
    "\n",
    "# 256 batch size, 128x128 images, 8 cpu cores for batches\n",
    "class FFHQDataModule(L.LightningDataModule):\n",
    "    def __init__(self, data_dir: str = \"cats/Data\", img_size: int = 128, batch_size: int = 16, num_workers: int = 8):\n",
    "        super().__init__()\n",
    "        self.data_dir = data_dir\n",
    "        self.img_size = img_size\n",
    "        self.batch_size = batch_size\n",
    "        self.num_workers = num_workers\n",
    "\n",
    "        self.transform = v2.Compose([            \n",
    "            # v2.CenterCrop(self.img_size),\n",
    "            v2.ToImage(),\n",
    "            v2.ToDtype(torch.float32),\n",
    "            v2.Resize(size=(64, 64)),\n",
    "            v2.RandomHorizontalFlip(p=0.5),\n",
    "            v2.Normalize(mean=[0.485, 0.456, 0.406], std=[0.229, 0.224, 0.225]),\n",
    "        ])\n",
    "\n",
    "    def setup(self, stage=None):\n",
    "        self.dataset = FFHQDataset(img_dir=self.data_dir, transform=self.transform)\n",
    "\n",
    "    def train_dataloader(self):\n",
    "        return DataLoader(\n",
    "            self.dataset,\n",
    "            batch_size=self.batch_size,\n",
    "            shuffle=True,\n",
    "            num_workers=self.num_workers,\n",
    "            pin_memory=True)"
   ]
  },
  {
   "cell_type": "code",
   "execution_count": 47,
   "metadata": {},
   "outputs": [],
   "source": [
    "class Generator(torch.nn.Module):\n",
    "    def __init__(self):\n",
    "        super(Generator, self).__init__()\n",
    "\n",
    "        self.init_size = 64 // 4\n",
    "        self.latent_dim = 1024\n",
    "\n",
    "        self.l1 = torch.nn.Sequential(torch.nn.Linear(self.latent_dim, 128 * self.init_size ** 2))\n",
    "\n",
    "        self.conv_blocks = torch.nn.Sequential(\n",
    "            torch.nn.BatchNorm2d(128),\n",
    "            torch.nn.Upsample(scale_factor=2),\n",
    "            torch.nn.Conv2d(128, 128, 3, stride=1, padding=1),\n",
    "            torch.nn.BatchNorm2d(128, 0.8),\n",
    "            torch.nn.LeakyReLU(0.2, inplace=True),\n",
    "            torch.nn.Upsample(scale_factor=2),\n",
    "            torch.nn.Conv2d(128, 64, 3, stride=1, padding=1),\n",
    "            torch.nn.BatchNorm2d(64, 0.8),\n",
    "            torch.nn.LeakyReLU(0.2, inplace=True),\n",
    "            torch.nn.Conv2d(64, 3, 3, stride=1, padding=1),\n",
    "            torch.nn.Tanh(),\n",
    "        )\n",
    "\n",
    "    def forward(self, z):\n",
    "        out = self.l1(z)\n",
    "        out = out.view(out.shape[0], 128, self.init_size, self.init_size)\n",
    "        img = self.conv_blocks(out)\n",
    "        return img\n",
    "\n",
    "class Discriminator(torch.nn.Module):\n",
    "    def __init__(self):\n",
    "        super(Discriminator, self).__init__()\n",
    "\n",
    "        def discriminator_block(in_filters, out_filters, bn=True):\n",
    "            block = [torch.nn.Conv2d(in_filters, out_filters, 3, 2, 1), \n",
    "                    torch.nn.LeakyReLU(0.2, inplace=True), \n",
    "                    torch.nn.Dropout2d(0.25)]\n",
    "            if bn:\n",
    "                block.append(torch.nn.BatchNorm2d(out_filters, 0.8))\n",
    "            return block\n",
    "\n",
    "        self.model = torch.nn.Sequential(\n",
    "            *discriminator_block(3, 16, bn=False),\n",
    "            *discriminator_block(16, 32),\n",
    "            *discriminator_block(32, 64),\n",
    "            *discriminator_block(64, 128),\n",
    "        )\n",
    "\n",
    "        ds_size = 64 // 2 ** 4\n",
    "        self.adv_layer = torch.nn.Sequential(\n",
    "            torch.nn.Linear(128 * ds_size ** 2, 1), \n",
    "            torch.nn.Sigmoid()\n",
    "        )\n",
    "\n",
    "    def forward(self, img):\n",
    "        out = self.model(img)\n",
    "        out = out.view(out.shape[0], -1)\n",
    "        validity = self.adv_layer(out)\n",
    "        return validity"
   ]
  },
  {
   "cell_type": "code",
   "execution_count": 48,
   "metadata": {},
   "outputs": [],
   "source": [
    "# class Generator(nn.Module):\n",
    "#     def __init__(self):\n",
    "#         super(Generator, self).__init__()\n",
    "        \n",
    "#         # Increased initial size remains same to maintain 64x64 output\n",
    "#         self.init_size = 64 // 4  # Starting with 16x16\n",
    "        \n",
    "#         # Increased latent dimension for more expressive generation\n",
    "#         self.latent_dim = 1024\n",
    "        \n",
    "#         # Increased number of features in initial linear layer\n",
    "#         self.l1 = nn.Sequential(\n",
    "#             nn.Linear(self.latent_dim, 256 * self.init_size ** 2),\n",
    "#             nn.LeakyReLU(0.2, inplace=True)\n",
    "#         )\n",
    "\n",
    "#         # Enhanced convolution blocks with more features and additional refinement layers\n",
    "#         self.conv_blocks = nn.Sequential(\n",
    "#             nn.BatchNorm2d(256),\n",
    "            \n",
    "#             # First upsampling block (16x16 -> 32x32)\n",
    "#             nn.Upsample(scale_factor=2),\n",
    "#             nn.Conv2d(256, 256, 3, stride=1, padding=1),\n",
    "#             nn.BatchNorm2d(256, 0.8),\n",
    "#             nn.LeakyReLU(0.2, inplace=True),\n",
    "#             # Additional refinement layer\n",
    "#             nn.Conv2d(256, 256, 3, stride=1, padding=1),\n",
    "#             nn.BatchNorm2d(256, 0.8),\n",
    "#             nn.LeakyReLU(0.2, inplace=True),\n",
    "            \n",
    "#             # Second upsampling block (32x32 -> 64x64)\n",
    "#             nn.Upsample(scale_factor=2),\n",
    "#             nn.Conv2d(256, 128, 3, stride=1, padding=1),\n",
    "#             nn.BatchNorm2d(128, 0.8),\n",
    "#             nn.LeakyReLU(0.2, inplace=True),\n",
    "#             # Additional refinement layer\n",
    "#             nn.Conv2d(128, 128, 3, stride=1, padding=1),\n",
    "#             nn.BatchNorm2d(128, 0.8),\n",
    "#             nn.LeakyReLU(0.2, inplace=True),\n",
    "            \n",
    "#             # Final refinement and output layers\n",
    "#             nn.Conv2d(128, 64, 3, stride=1, padding=1),\n",
    "#             nn.BatchNorm2d(64, 0.8),\n",
    "#             nn.LeakyReLU(0.2, inplace=True),\n",
    "#             nn.Conv2d(64, 3, 3, stride=1, padding=1),\n",
    "#             nn.Tanh()\n",
    "#         )\n",
    "\n",
    "#     def forward(self, z):\n",
    "#         out = self.l1(z)\n",
    "#         out = out.view(out.shape[0], 256, self.init_size, self.init_size)\n",
    "#         img = self.conv_blocks(out)\n",
    "#         return img\n",
    "\n",
    "\n",
    "# class Discriminator(nn.Module):\n",
    "#     def __init__(self):\n",
    "#         super(Discriminator, self).__init__()\n",
    "\n",
    "#         def discriminator_block(in_filters, out_filters, bn=True, kernel_size=3):\n",
    "#             block = [\n",
    "#                 nn.Conv2d(in_filters, out_filters, kernel_size, 2, kernel_size//2),\n",
    "#                 nn.LeakyReLU(0.2, inplace=True),\n",
    "#                 nn.Dropout2d(0.25)\n",
    "#             ]\n",
    "#             if bn:\n",
    "#                 block.append(nn.BatchNorm2d(out_filters, 0.8))\n",
    "#             return block\n",
    "\n",
    "#         # Enhanced discriminator with more features and additional layers\n",
    "#         self.model = nn.Sequential(\n",
    "#             # Initial feature extraction (64x64 -> 32x32)\n",
    "#             *discriminator_block(3, 32, bn=False),\n",
    "#             nn.Conv2d(32, 32, 3, 1, 1),\n",
    "#             nn.LeakyReLU(0.2, inplace=True),\n",
    "            \n",
    "#             # Second block (32x32 -> 16x16)\n",
    "#             *discriminator_block(32, 64),\n",
    "#             nn.Conv2d(64, 64, 3, 1, 1),\n",
    "#             nn.LeakyReLU(0.2, inplace=True),\n",
    "            \n",
    "#             # Third block (16x16 -> 8x8)\n",
    "#             *discriminator_block(64, 128),\n",
    "#             nn.Conv2d(128, 128, 3, 1, 1),\n",
    "#             nn.LeakyReLU(0.2, inplace=True),\n",
    "            \n",
    "#             # Fourth block (8x8 -> 4x4)\n",
    "#             *discriminator_block(128, 256),\n",
    "#             nn.Conv2d(256, 256, 3, 1, 1),\n",
    "#             nn.LeakyReLU(0.2, inplace=True),\n",
    "#         )\n",
    "\n",
    "#         # The height and width of downsampled image\n",
    "#         ds_size = 64 // 2 ** 4  # Still 4x4 as before\n",
    "        \n",
    "#         # Enhanced final classification layers\n",
    "#         self.adv_layer = nn.Sequential(\n",
    "#             nn.Linear(256 * ds_size ** 2, 512),\n",
    "#             nn.LeakyReLU(0.2, inplace=True),\n",
    "#             nn.Linear(512, 1),\n",
    "#             nn.Sigmoid()\n",
    "#         )\n",
    "\n",
    "#     def forward(self, img):\n",
    "#         out = self.model(img)\n",
    "#         out = out.view(out.shape[0], -1)\n",
    "#         validity = self.adv_layer(out)\n",
    "#         return validity"
   ]
  },
  {
   "cell_type": "code",
   "execution_count": 49,
   "metadata": {},
   "outputs": [],
   "source": [
    "class GAN(L.LightningModule):\n",
    "    def __init__(\n",
    "            self,\n",
    "            img_size: int = 64,\n",
    "            latent_dim: int = 1024,\n",
    "            lr: float = 5e-5,\n",
    "            b1: float = 0.5,\n",
    "            b2: float = 0.999,\n",
    "            gamma: float = 0.999995,\n",
    "            n_crtic: int = 5\n",
    "\n",
    "            ):\n",
    "        super().__init__()\n",
    "        # This is partially for wandb logging\n",
    "        self.save_hyperparameters()\n",
    "        # Maintain automatic optimization off for manual control\n",
    "        self.automatic_optimization = False\n",
    "\n",
    "        self.latent_dim = latent_dim\n",
    "        self.lr = lr\n",
    "        self.b1 = b1\n",
    "        self.b2 = b2\n",
    "        self.img_size = img_size\n",
    "        self.gamma = gamma\n",
    "        self.n_critic = n_crtic\n",
    "\n",
    "\n",
    "\n",
    "        self.generator = Generator()\n",
    "        self.discriminator = Discriminator()\n",
    "        \n",
    "        # Add a binary cross-entropy loss for classification\n",
    "        self.criterion = nn.BCEWithLogitsLoss()\n",
    "\n",
    "    def forward(self, z):\n",
    "        return self.generator(z)\n",
    "\n",
    "    def loss_Discriminator(self, real_imgs, fake_imgs):\n",
    "        \"\"\"\n",
    "        Compute cross-entropy loss for the discriminator.\n",
    "        \n",
    "        Args:\n",
    "            real_imgs (torch.Tensor): Batch of real images\n",
    "            fake_imgs (torch.Tensor): Batch of generated images\n",
    "        \n",
    "        Returns:\n",
    "            torch.Tensor: Discriminator loss\n",
    "        \"\"\"\n",
    "        # Create labels (0 for fake, 1 for real)\n",
    "        real_labels = torch.ones(real_imgs.size(0), 1).type_as(real_imgs)\n",
    "        fake_labels = torch.zeros(fake_imgs.size(0), 1).type_as(fake_imgs)\n",
    "        \n",
    "        # Get discriminator scores\n",
    "        real_scores = self.discriminator(real_imgs)\n",
    "        fake_scores = self.discriminator(fake_imgs)\n",
    "        \n",
    "        # Compute cross-entropy loss\n",
    "        real_loss = self.criterion(real_scores, real_labels)\n",
    "        fake_loss = self.criterion(fake_scores, fake_labels)\n",
    "        \n",
    "        # Total discriminator loss\n",
    "        return real_loss + fake_loss\n",
    "\n",
    "    def loss_Generator(self, fake_imgs):\n",
    "        \"\"\"\n",
    "        Compute generator loss using cross-entropy.\n",
    "        \n",
    "        Args:\n",
    "            fake_imgs (torch.Tensor): Batch of generated images\n",
    "        \n",
    "        Returns:\n",
    "            torch.Tensor: Generator loss\n",
    "        \"\"\"\n",
    "        # Generator tries to fool the discriminator\n",
    "        # So we use labels as if fake images were real\n",
    "        labels = torch.ones(fake_imgs.size(0), 1).type_as(fake_imgs)\n",
    "        \n",
    "        # Get discriminator scores for fake images\n",
    "        fake_scores = self.discriminator(fake_imgs)\n",
    "        \n",
    "        # Compute loss (generator wants discriminator to classify fake images as real)\n",
    "        return self.criterion(fake_scores, labels)\n",
    "\n",
    "    def training_step(self, batch, batch_idx):\n",
    "        imgs = batch\n",
    "        optimizer_g, optimizer_d = self.optimizers()\n",
    "        scheduler_g, scheduler_d = self.configure_schedulers(opt_g=optimizer_g, opt_d=optimizer_d)\n",
    "\n",
    "\n",
    "        current_lr_g = optimizer_g.param_groups[0]['lr']\n",
    "        current_lr_d = optimizer_d.param_groups[0]['lr']\n",
    "        \n",
    "        # Log learning rates using both wandb and Lightning's logger\n",
    "        self.log('lr_generator', current_lr_g)\n",
    "        self.log('lr_discriminator', current_lr_d)\n",
    "\n",
    "        # self.toggle_optimizer(optimizer_g)\n",
    "        # for _ in range(self.n_critic):\n",
    "           \n",
    "        #     # Generate images for generator training\n",
    "        #     # for _ in range(self.n_critic):\n",
    "        #     z_g = torch.randn(imgs.shape[0], self.hparams.latent_dim)\n",
    "        #     z_g = z_g.type_as(imgs)\n",
    "        #     fake_imgs_g = self(z_g)\n",
    "        #     # Calculate generator loss\n",
    "        #     g_loss = self.loss_Generator(fake_imgs_g)\n",
    "            \n",
    "        #     self.log(\"g_loss\", g_loss)\n",
    "        #     self.manual_backward(g_loss)\n",
    "        #     optimizer_g.step()\n",
    "\n",
    "        #     optimizer_g.zero_grad()\n",
    "\n",
    "        # scheduler_g.step()\n",
    "        # self.untoggle_optimizer(optimizer_g)\n",
    "        for _ in range(self.n_critic):\n",
    "            self.toggle_optimizer(optimizer_d)\n",
    "            \n",
    "            # Generate new images for discriminator training\n",
    "            z_d = torch.randn(imgs.shape[0], self.hparams.latent_dim)\n",
    "            z_d = z_d.type_as(imgs)\n",
    "            fake_imgs_d = self(z_d)\n",
    "\n",
    "            # Calculate discriminator loss\n",
    "            loss_D = self.loss_Discriminator(imgs, fake_imgs_d)\n",
    "            \n",
    "            self.log(\"d_loss\", loss_D)\n",
    "            self.manual_backward(loss_D)\n",
    "            optimizer_d.step()\n",
    "            scheduler_d.step()\n",
    "            optimizer_d.zero_grad()\n",
    "            self.untoggle_optimizer(optimizer_d)\n",
    "\n",
    "\n",
    "        # for _ in range(self.n_critic):\n",
    "        self.toggle_optimizer(optimizer_g)\n",
    "        # for _ in range(self.n_critic):        \n",
    "\n",
    "        # Generate images for generator training\n",
    "        z_g = torch.randn(imgs.shape[0], self.hparams.latent_dim)\n",
    "        z_g = z_g.type_as(imgs)\n",
    "        fake_imgs_g = self(z_g)\n",
    "        # Calculate generator loss\n",
    "        g_loss = self.loss_Generator(fake_imgs_g)\n",
    "        \n",
    "        self.log(\"g_loss\", g_loss)\n",
    "        self.manual_backward(g_loss)\n",
    "        optimizer_g.step()\n",
    "        scheduler_g.step()\n",
    "        optimizer_g.zero_grad()\n",
    "        scheduler_g.step()    \n",
    "        self.untoggle_optimizer(optimizer_g)\n",
    "\n",
    "        if batch_idx % 900 == 0:\n",
    "            wandb.log({\"generated_images\": [wandb.Image(fake_img) for fake_img in fake_imgs_g[:20]]})\n",
    "\n",
    "    def configure_optimizers(self):\n",
    "        lr = self.hparams.lr\n",
    "        b1 = self.hparams.b1\n",
    "        b2 = self.hparams.b2\n",
    "\n",
    "        opt_g = torch.optim.Adam(self.generator.parameters(), lr=lr, betas=(b1, b2))\n",
    "        opt_d = torch.optim.Adam(self.discriminator.parameters(), lr=lr/10, betas=(b1, b2))\n",
    "\n",
    "        return [opt_g, opt_d], []\n",
    "    \n",
    "    def configure_schedulers(self, opt_g, opt_d):\n",
    "        gamma = self.hparams.gamma\n",
    "\n",
    "\n",
    "        sch_g = torch.optim.lr_scheduler.ExponentialLR(opt_g, gamma=gamma)\n",
    "        sch_d = torch.optim.lr_scheduler.ExponentialLR(opt_d, gamma=gamma)\n",
    "\n",
    "        return [sch_g, sch_d]\n"
   ]
  },
  {
   "cell_type": "code",
   "execution_count": 50,
   "metadata": {},
   "outputs": [
    {
     "name": "stderr",
     "output_type": "stream",
     "text": [
      "GPU available: True (cuda), used: True\n",
      "TPU available: False, using: 0 TPU cores\n",
      "HPU available: False, using: 0 HPUs\n"
     ]
    }
   ],
   "source": [
    "# Trainer settings\n",
    "model = GAN()\n",
    "\n",
    "# model.eval()\n",
    "\n",
    "dm = FFHQDataModule(batch_size=BATCH_SIZE)\n",
    "\n",
    "torch.set_float32_matmul_precision(\"highest\")\n",
    "\n",
    "# could try reduced precision but I had problems with it earlier\n",
    "trainer = L.Trainer(\n",
    "    logger=wandb_logger,\n",
    "    max_epochs=EPOCHS,\n",
    "    accelerator=\"gpu\",\n",
    "    enable_checkpointing=True,\n",
    "    precision=\"32-true\"\n",
    ")"
   ]
  },
  {
   "cell_type": "code",
   "execution_count": 51,
   "metadata": {},
   "outputs": [
    {
     "name": "stderr",
     "output_type": "stream",
     "text": [
      "LOCAL_RANK: 0 - CUDA_VISIBLE_DEVICES: [0]\n",
      "\n",
      "  | Name          | Type              | Params | Mode \n",
      "------------------------------------------------------------\n",
      "0 | generator     | Generator         | 33.8 M | train\n",
      "1 | discriminator | Discriminator     | 99.9 K | train\n",
      "2 | criterion     | BCEWithLogitsLoss | 0      | train\n",
      "------------------------------------------------------------\n",
      "33.9 M    Trainable params\n",
      "0         Non-trainable params\n",
      "33.9 M    Total params\n",
      "135.644   Total estimated model params size (MB)\n",
      "36        Modules in train mode\n",
      "0         Modules in eval mode\n"
     ]
    },
    {
     "name": "stdout",
     "output_type": "stream",
     "text": [
      "Epoch 0:   3%|▎         | 29/933 [17:04<8:52:02,  0.03it/s, v_num=493x]\n",
      "Epoch 10:  97%|█████████▋| 903/933 [00:59<00:01, 15.28it/s, v_num=jlc5]"
     ]
    },
    {
     "name": "stderr",
     "output_type": "stream",
     "text": [
      "/home/fil/miniconda3/envs/ML/lib/python3.12/site-packages/wandb/sdk/wandb_run.py:2374: UserWarning: Run (ocxk493x) is finished. The call to `_console_raw_callback` will be ignored. Please make sure that you are using an active run.\n",
      "  lambda data: self._console_raw_callback(\"stdout\", data),\n"
     ]
    },
    {
     "name": "stdout",
     "output_type": "stream",
     "text": [
      "Epoch 21:  32%|███▏      | 294/933 [00:21<00:46, 13.71it/s, v_num=jlc5]"
     ]
    },
    {
     "name": "stderr",
     "output_type": "stream",
     "text": [
      "\n",
      "Detected KeyboardInterrupt, attempting graceful shutdown ...\n"
     ]
    },
    {
     "ename": "NameError",
     "evalue": "name 'exit' is not defined",
     "output_type": "error",
     "traceback": [
      "\u001b[0;31m---------------------------------------------------------------------------\u001b[0m",
      "\u001b[0;31mKeyboardInterrupt\u001b[0m                         Traceback (most recent call last)",
      "File \u001b[0;32m~/miniconda3/envs/ML/lib/python3.12/site-packages/lightning/pytorch/trainer/call.py:47\u001b[0m, in \u001b[0;36m_call_and_handle_interrupt\u001b[0;34m(trainer, trainer_fn, *args, **kwargs)\u001b[0m\n\u001b[1;32m     46\u001b[0m         \u001b[38;5;28;01mreturn\u001b[39;00m trainer\u001b[38;5;241m.\u001b[39mstrategy\u001b[38;5;241m.\u001b[39mlauncher\u001b[38;5;241m.\u001b[39mlaunch(trainer_fn, \u001b[38;5;241m*\u001b[39margs, trainer\u001b[38;5;241m=\u001b[39mtrainer, \u001b[38;5;241m*\u001b[39m\u001b[38;5;241m*\u001b[39mkwargs)\n\u001b[0;32m---> 47\u001b[0m     \u001b[38;5;28;01mreturn\u001b[39;00m \u001b[43mtrainer_fn\u001b[49m\u001b[43m(\u001b[49m\u001b[38;5;241;43m*\u001b[39;49m\u001b[43margs\u001b[49m\u001b[43m,\u001b[49m\u001b[43m \u001b[49m\u001b[38;5;241;43m*\u001b[39;49m\u001b[38;5;241;43m*\u001b[39;49m\u001b[43mkwargs\u001b[49m\u001b[43m)\u001b[49m\n\u001b[1;32m     49\u001b[0m \u001b[38;5;28;01mexcept\u001b[39;00m _TunerExitException:\n",
      "File \u001b[0;32m~/miniconda3/envs/ML/lib/python3.12/site-packages/lightning/pytorch/trainer/trainer.py:575\u001b[0m, in \u001b[0;36mTrainer._fit_impl\u001b[0;34m(self, model, train_dataloaders, val_dataloaders, datamodule, ckpt_path)\u001b[0m\n\u001b[1;32m    569\u001b[0m ckpt_path \u001b[38;5;241m=\u001b[39m \u001b[38;5;28mself\u001b[39m\u001b[38;5;241m.\u001b[39m_checkpoint_connector\u001b[38;5;241m.\u001b[39m_select_ckpt_path(\n\u001b[1;32m    570\u001b[0m     \u001b[38;5;28mself\u001b[39m\u001b[38;5;241m.\u001b[39mstate\u001b[38;5;241m.\u001b[39mfn,\n\u001b[1;32m    571\u001b[0m     ckpt_path,\n\u001b[1;32m    572\u001b[0m     model_provided\u001b[38;5;241m=\u001b[39m\u001b[38;5;28;01mTrue\u001b[39;00m,\n\u001b[1;32m    573\u001b[0m     model_connected\u001b[38;5;241m=\u001b[39m\u001b[38;5;28mself\u001b[39m\u001b[38;5;241m.\u001b[39mlightning_module \u001b[38;5;129;01mis\u001b[39;00m \u001b[38;5;129;01mnot\u001b[39;00m \u001b[38;5;28;01mNone\u001b[39;00m,\n\u001b[1;32m    574\u001b[0m )\n\u001b[0;32m--> 575\u001b[0m \u001b[38;5;28;43mself\u001b[39;49m\u001b[38;5;241;43m.\u001b[39;49m\u001b[43m_run\u001b[49m\u001b[43m(\u001b[49m\u001b[43mmodel\u001b[49m\u001b[43m,\u001b[49m\u001b[43m \u001b[49m\u001b[43mckpt_path\u001b[49m\u001b[38;5;241;43m=\u001b[39;49m\u001b[43mckpt_path\u001b[49m\u001b[43m)\u001b[49m\n\u001b[1;32m    577\u001b[0m \u001b[38;5;28;01massert\u001b[39;00m \u001b[38;5;28mself\u001b[39m\u001b[38;5;241m.\u001b[39mstate\u001b[38;5;241m.\u001b[39mstopped\n",
      "File \u001b[0;32m~/miniconda3/envs/ML/lib/python3.12/site-packages/lightning/pytorch/trainer/trainer.py:982\u001b[0m, in \u001b[0;36mTrainer._run\u001b[0;34m(self, model, ckpt_path)\u001b[0m\n\u001b[1;32m    979\u001b[0m \u001b[38;5;66;03m# ----------------------------\u001b[39;00m\n\u001b[1;32m    980\u001b[0m \u001b[38;5;66;03m# RUN THE TRAINER\u001b[39;00m\n\u001b[1;32m    981\u001b[0m \u001b[38;5;66;03m# ----------------------------\u001b[39;00m\n\u001b[0;32m--> 982\u001b[0m results \u001b[38;5;241m=\u001b[39m \u001b[38;5;28;43mself\u001b[39;49m\u001b[38;5;241;43m.\u001b[39;49m\u001b[43m_run_stage\u001b[49m\u001b[43m(\u001b[49m\u001b[43m)\u001b[49m\n\u001b[1;32m    984\u001b[0m \u001b[38;5;66;03m# ----------------------------\u001b[39;00m\n\u001b[1;32m    985\u001b[0m \u001b[38;5;66;03m# POST-Training CLEAN UP\u001b[39;00m\n\u001b[1;32m    986\u001b[0m \u001b[38;5;66;03m# ----------------------------\u001b[39;00m\n",
      "File \u001b[0;32m~/miniconda3/envs/ML/lib/python3.12/site-packages/lightning/pytorch/trainer/trainer.py:1026\u001b[0m, in \u001b[0;36mTrainer._run_stage\u001b[0;34m(self)\u001b[0m\n\u001b[1;32m   1025\u001b[0m \u001b[38;5;28;01mwith\u001b[39;00m torch\u001b[38;5;241m.\u001b[39mautograd\u001b[38;5;241m.\u001b[39mset_detect_anomaly(\u001b[38;5;28mself\u001b[39m\u001b[38;5;241m.\u001b[39m_detect_anomaly):\n\u001b[0;32m-> 1026\u001b[0m     \u001b[38;5;28;43mself\u001b[39;49m\u001b[38;5;241;43m.\u001b[39;49m\u001b[43mfit_loop\u001b[49m\u001b[38;5;241;43m.\u001b[39;49m\u001b[43mrun\u001b[49m\u001b[43m(\u001b[49m\u001b[43m)\u001b[49m\n\u001b[1;32m   1027\u001b[0m \u001b[38;5;28;01mreturn\u001b[39;00m \u001b[38;5;28;01mNone\u001b[39;00m\n",
      "File \u001b[0;32m~/miniconda3/envs/ML/lib/python3.12/site-packages/lightning/pytorch/loops/fit_loop.py:216\u001b[0m, in \u001b[0;36m_FitLoop.run\u001b[0;34m(self)\u001b[0m\n\u001b[1;32m    215\u001b[0m \u001b[38;5;28mself\u001b[39m\u001b[38;5;241m.\u001b[39mon_advance_start()\n\u001b[0;32m--> 216\u001b[0m \u001b[38;5;28;43mself\u001b[39;49m\u001b[38;5;241;43m.\u001b[39;49m\u001b[43madvance\u001b[49m\u001b[43m(\u001b[49m\u001b[43m)\u001b[49m\n\u001b[1;32m    217\u001b[0m \u001b[38;5;28mself\u001b[39m\u001b[38;5;241m.\u001b[39mon_advance_end()\n",
      "File \u001b[0;32m~/miniconda3/envs/ML/lib/python3.12/site-packages/lightning/pytorch/loops/fit_loop.py:455\u001b[0m, in \u001b[0;36m_FitLoop.advance\u001b[0;34m(self)\u001b[0m\n\u001b[1;32m    454\u001b[0m \u001b[38;5;28;01massert\u001b[39;00m \u001b[38;5;28mself\u001b[39m\u001b[38;5;241m.\u001b[39m_data_fetcher \u001b[38;5;129;01mis\u001b[39;00m \u001b[38;5;129;01mnot\u001b[39;00m \u001b[38;5;28;01mNone\u001b[39;00m\n\u001b[0;32m--> 455\u001b[0m \u001b[38;5;28;43mself\u001b[39;49m\u001b[38;5;241;43m.\u001b[39;49m\u001b[43mepoch_loop\u001b[49m\u001b[38;5;241;43m.\u001b[39;49m\u001b[43mrun\u001b[49m\u001b[43m(\u001b[49m\u001b[38;5;28;43mself\u001b[39;49m\u001b[38;5;241;43m.\u001b[39;49m\u001b[43m_data_fetcher\u001b[49m\u001b[43m)\u001b[49m\n",
      "File \u001b[0;32m~/miniconda3/envs/ML/lib/python3.12/site-packages/lightning/pytorch/loops/training_epoch_loop.py:150\u001b[0m, in \u001b[0;36m_TrainingEpochLoop.run\u001b[0;34m(self, data_fetcher)\u001b[0m\n\u001b[1;32m    149\u001b[0m \u001b[38;5;28;01mtry\u001b[39;00m:\n\u001b[0;32m--> 150\u001b[0m     \u001b[38;5;28;43mself\u001b[39;49m\u001b[38;5;241;43m.\u001b[39;49m\u001b[43madvance\u001b[49m\u001b[43m(\u001b[49m\u001b[43mdata_fetcher\u001b[49m\u001b[43m)\u001b[49m\n\u001b[1;32m    151\u001b[0m     \u001b[38;5;28mself\u001b[39m\u001b[38;5;241m.\u001b[39mon_advance_end(data_fetcher)\n",
      "File \u001b[0;32m~/miniconda3/envs/ML/lib/python3.12/site-packages/lightning/pytorch/loops/training_epoch_loop.py:322\u001b[0m, in \u001b[0;36m_TrainingEpochLoop.advance\u001b[0;34m(self, data_fetcher)\u001b[0m\n\u001b[1;32m    321\u001b[0m         \u001b[38;5;28;01melse\u001b[39;00m:\n\u001b[0;32m--> 322\u001b[0m             batch_output \u001b[38;5;241m=\u001b[39m \u001b[38;5;28;43mself\u001b[39;49m\u001b[38;5;241;43m.\u001b[39;49m\u001b[43mmanual_optimization\u001b[49m\u001b[38;5;241;43m.\u001b[39;49m\u001b[43mrun\u001b[49m\u001b[43m(\u001b[49m\u001b[43mkwargs\u001b[49m\u001b[43m)\u001b[49m\n\u001b[1;32m    324\u001b[0m \u001b[38;5;28mself\u001b[39m\u001b[38;5;241m.\u001b[39mbatch_progress\u001b[38;5;241m.\u001b[39mincrement_processed()\n",
      "File \u001b[0;32m~/miniconda3/envs/ML/lib/python3.12/site-packages/lightning/pytorch/loops/optimization/manual.py:94\u001b[0m, in \u001b[0;36m_ManualOptimization.run\u001b[0;34m(self, kwargs)\u001b[0m\n\u001b[1;32m     93\u001b[0m \u001b[38;5;28;01mwith\u001b[39;00m suppress(\u001b[38;5;167;01mStopIteration\u001b[39;00m):  \u001b[38;5;66;03m# no loop to break at this level\u001b[39;00m\n\u001b[0;32m---> 94\u001b[0m     \u001b[38;5;28;43mself\u001b[39;49m\u001b[38;5;241;43m.\u001b[39;49m\u001b[43madvance\u001b[49m\u001b[43m(\u001b[49m\u001b[43mkwargs\u001b[49m\u001b[43m)\u001b[49m\n\u001b[1;32m     95\u001b[0m \u001b[38;5;28mself\u001b[39m\u001b[38;5;241m.\u001b[39m_restarting \u001b[38;5;241m=\u001b[39m \u001b[38;5;28;01mFalse\u001b[39;00m\n",
      "File \u001b[0;32m~/miniconda3/envs/ML/lib/python3.12/site-packages/lightning/pytorch/loops/optimization/manual.py:114\u001b[0m, in \u001b[0;36m_ManualOptimization.advance\u001b[0;34m(self, kwargs)\u001b[0m\n\u001b[1;32m    113\u001b[0m \u001b[38;5;66;03m# manually capture logged metrics\u001b[39;00m\n\u001b[0;32m--> 114\u001b[0m training_step_output \u001b[38;5;241m=\u001b[39m \u001b[43mcall\u001b[49m\u001b[38;5;241;43m.\u001b[39;49m\u001b[43m_call_strategy_hook\u001b[49m\u001b[43m(\u001b[49m\u001b[43mtrainer\u001b[49m\u001b[43m,\u001b[49m\u001b[43m \u001b[49m\u001b[38;5;124;43m\"\u001b[39;49m\u001b[38;5;124;43mtraining_step\u001b[39;49m\u001b[38;5;124;43m\"\u001b[39;49m\u001b[43m,\u001b[49m\u001b[43m \u001b[49m\u001b[38;5;241;43m*\u001b[39;49m\u001b[43mkwargs\u001b[49m\u001b[38;5;241;43m.\u001b[39;49m\u001b[43mvalues\u001b[49m\u001b[43m(\u001b[49m\u001b[43m)\u001b[49m\u001b[43m)\u001b[49m\n\u001b[1;32m    115\u001b[0m \u001b[38;5;28;01mdel\u001b[39;00m kwargs  \u001b[38;5;66;03m# release the batch from memory\u001b[39;00m\n",
      "File \u001b[0;32m~/miniconda3/envs/ML/lib/python3.12/site-packages/lightning/pytorch/trainer/call.py:323\u001b[0m, in \u001b[0;36m_call_strategy_hook\u001b[0;34m(trainer, hook_name, *args, **kwargs)\u001b[0m\n\u001b[1;32m    322\u001b[0m \u001b[38;5;28;01mwith\u001b[39;00m trainer\u001b[38;5;241m.\u001b[39mprofiler\u001b[38;5;241m.\u001b[39mprofile(\u001b[38;5;124mf\u001b[39m\u001b[38;5;124m\"\u001b[39m\u001b[38;5;124m[Strategy]\u001b[39m\u001b[38;5;132;01m{\u001b[39;00mtrainer\u001b[38;5;241m.\u001b[39mstrategy\u001b[38;5;241m.\u001b[39m\u001b[38;5;18m__class__\u001b[39m\u001b[38;5;241m.\u001b[39m\u001b[38;5;18m__name__\u001b[39m\u001b[38;5;132;01m}\u001b[39;00m\u001b[38;5;124m.\u001b[39m\u001b[38;5;132;01m{\u001b[39;00mhook_name\u001b[38;5;132;01m}\u001b[39;00m\u001b[38;5;124m\"\u001b[39m):\n\u001b[0;32m--> 323\u001b[0m     output \u001b[38;5;241m=\u001b[39m \u001b[43mfn\u001b[49m\u001b[43m(\u001b[49m\u001b[38;5;241;43m*\u001b[39;49m\u001b[43margs\u001b[49m\u001b[43m,\u001b[49m\u001b[43m \u001b[49m\u001b[38;5;241;43m*\u001b[39;49m\u001b[38;5;241;43m*\u001b[39;49m\u001b[43mkwargs\u001b[49m\u001b[43m)\u001b[49m\n\u001b[1;32m    325\u001b[0m \u001b[38;5;66;03m# restore current_fx when nested context\u001b[39;00m\n",
      "File \u001b[0;32m~/miniconda3/envs/ML/lib/python3.12/site-packages/lightning/pytorch/strategies/strategy.py:391\u001b[0m, in \u001b[0;36mStrategy.training_step\u001b[0;34m(self, *args, **kwargs)\u001b[0m\n\u001b[1;32m    390\u001b[0m     \u001b[38;5;28;01mreturn\u001b[39;00m \u001b[38;5;28mself\u001b[39m\u001b[38;5;241m.\u001b[39m_forward_redirection(\u001b[38;5;28mself\u001b[39m\u001b[38;5;241m.\u001b[39mmodel, \u001b[38;5;28mself\u001b[39m\u001b[38;5;241m.\u001b[39mlightning_module, \u001b[38;5;124m\"\u001b[39m\u001b[38;5;124mtraining_step\u001b[39m\u001b[38;5;124m\"\u001b[39m, \u001b[38;5;241m*\u001b[39margs, \u001b[38;5;241m*\u001b[39m\u001b[38;5;241m*\u001b[39mkwargs)\n\u001b[0;32m--> 391\u001b[0m \u001b[38;5;28;01mreturn\u001b[39;00m \u001b[38;5;28;43mself\u001b[39;49m\u001b[38;5;241;43m.\u001b[39;49m\u001b[43mlightning_module\u001b[49m\u001b[38;5;241;43m.\u001b[39;49m\u001b[43mtraining_step\u001b[49m\u001b[43m(\u001b[49m\u001b[38;5;241;43m*\u001b[39;49m\u001b[43margs\u001b[49m\u001b[43m,\u001b[49m\u001b[43m \u001b[49m\u001b[38;5;241;43m*\u001b[39;49m\u001b[38;5;241;43m*\u001b[39;49m\u001b[43mkwargs\u001b[49m\u001b[43m)\u001b[49m\n",
      "Cell \u001b[0;32mIn[49], line 125\u001b[0m, in \u001b[0;36mGAN.training_step\u001b[0;34m(self, batch, batch_idx)\u001b[0m\n\u001b[1;32m    124\u001b[0m \u001b[38;5;66;03m# Calculate discriminator loss\u001b[39;00m\n\u001b[0;32m--> 125\u001b[0m loss_D \u001b[38;5;241m=\u001b[39m \u001b[38;5;28;43mself\u001b[39;49m\u001b[38;5;241;43m.\u001b[39;49m\u001b[43mloss_Discriminator\u001b[49m\u001b[43m(\u001b[49m\u001b[43mimgs\u001b[49m\u001b[43m,\u001b[49m\u001b[43m \u001b[49m\u001b[43mfake_imgs_d\u001b[49m\u001b[43m)\u001b[49m\n\u001b[1;32m    127\u001b[0m \u001b[38;5;28mself\u001b[39m\u001b[38;5;241m.\u001b[39mlog(\u001b[38;5;124m\"\u001b[39m\u001b[38;5;124md_loss\u001b[39m\u001b[38;5;124m\"\u001b[39m, loss_D)\n",
      "Cell \u001b[0;32mIn[49], line 50\u001b[0m, in \u001b[0;36mGAN.loss_Discriminator\u001b[0;34m(self, real_imgs, fake_imgs)\u001b[0m\n\u001b[1;32m     49\u001b[0m \u001b[38;5;66;03m# Create labels (0 for fake, 1 for real)\u001b[39;00m\n\u001b[0;32m---> 50\u001b[0m real_labels \u001b[38;5;241m=\u001b[39m \u001b[43mtorch\u001b[49m\u001b[38;5;241;43m.\u001b[39;49m\u001b[43mones\u001b[49m\u001b[43m(\u001b[49m\u001b[43mreal_imgs\u001b[49m\u001b[38;5;241;43m.\u001b[39;49m\u001b[43msize\u001b[49m\u001b[43m(\u001b[49m\u001b[38;5;241;43m0\u001b[39;49m\u001b[43m)\u001b[49m\u001b[43m,\u001b[49m\u001b[43m \u001b[49m\u001b[38;5;241;43m1\u001b[39;49m\u001b[43m)\u001b[49m\u001b[38;5;241;43m.\u001b[39;49m\u001b[43mtype_as\u001b[49m\u001b[43m(\u001b[49m\u001b[43mreal_imgs\u001b[49m\u001b[43m)\u001b[49m\n\u001b[1;32m     51\u001b[0m fake_labels \u001b[38;5;241m=\u001b[39m torch\u001b[38;5;241m.\u001b[39mzeros(fake_imgs\u001b[38;5;241m.\u001b[39msize(\u001b[38;5;241m0\u001b[39m), \u001b[38;5;241m1\u001b[39m)\u001b[38;5;241m.\u001b[39mtype_as(fake_imgs)\n",
      "\u001b[0;31mKeyboardInterrupt\u001b[0m: ",
      "\nDuring handling of the above exception, another exception occurred:\n",
      "\u001b[0;31mNameError\u001b[0m                                 Traceback (most recent call last)",
      "Cell \u001b[0;32mIn[51], line 2\u001b[0m\n\u001b[1;32m      1\u001b[0m \u001b[38;5;66;03m# # Run\u001b[39;00m\n\u001b[0;32m----> 2\u001b[0m \u001b[43mtrainer\u001b[49m\u001b[38;5;241;43m.\u001b[39;49m\u001b[43mfit\u001b[49m\u001b[43m(\u001b[49m\u001b[43mmodel\u001b[49m\u001b[43m,\u001b[49m\u001b[43m \u001b[49m\u001b[43mtrain_dataloaders\u001b[49m\u001b[38;5;241;43m=\u001b[39;49m\u001b[43mdm\u001b[49m\u001b[43m)\u001b[49m\n",
      "File \u001b[0;32m~/miniconda3/envs/ML/lib/python3.12/site-packages/lightning/pytorch/trainer/trainer.py:539\u001b[0m, in \u001b[0;36mTrainer.fit\u001b[0;34m(self, model, train_dataloaders, val_dataloaders, datamodule, ckpt_path)\u001b[0m\n\u001b[1;32m    537\u001b[0m \u001b[38;5;28mself\u001b[39m\u001b[38;5;241m.\u001b[39mstate\u001b[38;5;241m.\u001b[39mstatus \u001b[38;5;241m=\u001b[39m TrainerStatus\u001b[38;5;241m.\u001b[39mRUNNING\n\u001b[1;32m    538\u001b[0m \u001b[38;5;28mself\u001b[39m\u001b[38;5;241m.\u001b[39mtraining \u001b[38;5;241m=\u001b[39m \u001b[38;5;28;01mTrue\u001b[39;00m\n\u001b[0;32m--> 539\u001b[0m \u001b[43mcall\u001b[49m\u001b[38;5;241;43m.\u001b[39;49m\u001b[43m_call_and_handle_interrupt\u001b[49m\u001b[43m(\u001b[49m\n\u001b[1;32m    540\u001b[0m \u001b[43m    \u001b[49m\u001b[38;5;28;43mself\u001b[39;49m\u001b[43m,\u001b[49m\u001b[43m \u001b[49m\u001b[38;5;28;43mself\u001b[39;49m\u001b[38;5;241;43m.\u001b[39;49m\u001b[43m_fit_impl\u001b[49m\u001b[43m,\u001b[49m\u001b[43m \u001b[49m\u001b[43mmodel\u001b[49m\u001b[43m,\u001b[49m\u001b[43m \u001b[49m\u001b[43mtrain_dataloaders\u001b[49m\u001b[43m,\u001b[49m\u001b[43m \u001b[49m\u001b[43mval_dataloaders\u001b[49m\u001b[43m,\u001b[49m\u001b[43m \u001b[49m\u001b[43mdatamodule\u001b[49m\u001b[43m,\u001b[49m\u001b[43m \u001b[49m\u001b[43mckpt_path\u001b[49m\n\u001b[1;32m    541\u001b[0m \u001b[43m\u001b[49m\u001b[43m)\u001b[49m\n",
      "File \u001b[0;32m~/miniconda3/envs/ML/lib/python3.12/site-packages/lightning/pytorch/trainer/call.py:64\u001b[0m, in \u001b[0;36m_call_and_handle_interrupt\u001b[0;34m(trainer, trainer_fn, *args, **kwargs)\u001b[0m\n\u001b[1;32m     62\u001b[0m     \u001b[38;5;28;01mif\u001b[39;00m \u001b[38;5;28misinstance\u001b[39m(launcher, _SubprocessScriptLauncher):\n\u001b[1;32m     63\u001b[0m         launcher\u001b[38;5;241m.\u001b[39mkill(_get_sigkill_signal())\n\u001b[0;32m---> 64\u001b[0m     \u001b[43mexit\u001b[49m(\u001b[38;5;241m1\u001b[39m)\n\u001b[1;32m     66\u001b[0m \u001b[38;5;28;01mexcept\u001b[39;00m \u001b[38;5;167;01mBaseException\u001b[39;00m \u001b[38;5;28;01mas\u001b[39;00m exception:\n\u001b[1;32m     67\u001b[0m     _interrupt(trainer, exception)\n",
      "\u001b[0;31mNameError\u001b[0m: name 'exit' is not defined"
     ]
    }
   ],
   "source": [
    "# # Run\n",
    "trainer.fit(model, train_dataloaders=dm)"
   ]
  },
  {
   "cell_type": "code",
   "execution_count": 52,
   "metadata": {},
   "outputs": [
    {
     "data": {
      "text/html": [
       "\n",
       "    <style>\n",
       "        .wandb-row {\n",
       "            display: flex;\n",
       "            flex-direction: row;\n",
       "            flex-wrap: wrap;\n",
       "            justify-content: flex-start;\n",
       "            width: 100%;\n",
       "        }\n",
       "        .wandb-col {\n",
       "            display: flex;\n",
       "            flex-direction: column;\n",
       "            flex-basis: 100%;\n",
       "            flex: 1;\n",
       "            padding: 10px;\n",
       "        }\n",
       "    </style>\n",
       "<div class=\"wandb-row\"><div class=\"wandb-col\"><h3>Run history:</h3><br/><table class=\"wandb\"><tr><td>d_loss</td><td>█▇▂▂▁▁▁▁▁▁▁▁▁▁▁▁▁▁▁▁▁▁▁▁▁▁▁▁▁▁▁▁▁▁▁▁▁▁▁▁</td></tr><tr><td>epoch</td><td>▁▁▁▁▁▁▂▂▂▂▂▂▃▃▃▃▃▃▄▄▄▅▅▅▅▆▆▆▆▆▆▆▇▇▇▇████</td></tr><tr><td>g_loss</td><td>▁▁██████████████████████████████████████</td></tr><tr><td>lr_discriminator</td><td>█████▇▇▇▇▇▇▇▆▆▆▆▆▆▅▅▅▅▅▅▅▄▃▃▃▃▃▃▂▂▂▂▂▁▁▁</td></tr><tr><td>lr_generator</td><td>████▇▇▇▇▇▆▆▆▆▆▅▅▅▄▄▄▄▄▄▄▄▄▃▃▃▃▃▃▂▂▂▂▁▁▁▁</td></tr><tr><td>trainer/global_step</td><td>▁▁▁▁▁▂▂▂▂▃▃▃▄▄▄▅▅▅▅▅▅▅▅▅▅▆▆▆▆▆▇▇▇▇▇█████</td></tr></table><br/></div><div class=\"wandb-col\"><h3>Run summary:</h3><br/><table class=\"wandb\"><tr><td>d_loss</td><td>1.00641</td></tr><tr><td>epoch</td><td>21</td></tr><tr><td>g_loss</td><td>0.69315</td></tr><tr><td>lr_discriminator</td><td>0.0</td></tr><tr><td>lr_generator</td><td>4e-05</td></tr><tr><td>trainer/global_step</td><td>19849</td></tr></table><br/></div></div>"
      ],
      "text/plain": [
       "<IPython.core.display.HTML object>"
      ]
     },
     "metadata": {},
     "output_type": "display_data"
    },
    {
     "data": {
      "text/html": [
       " View run <strong style=\"color:#cdcd00\">bumbling-serenity-15</strong> at: <a href='https://wandb.ai/filip-szczepanski/GAN2/runs/e008jlc5' target=\"_blank\">https://wandb.ai/filip-szczepanski/GAN2/runs/e008jlc5</a><br/> View project at: <a href='https://wandb.ai/filip-szczepanski/GAN2' target=\"_blank\">https://wandb.ai/filip-szczepanski/GAN2</a><br/>Synced 7 W&B file(s), 0 media file(s), 2 artifact file(s) and 860 other file(s)"
      ],
      "text/plain": [
       "<IPython.core.display.HTML object>"
      ]
     },
     "metadata": {},
     "output_type": "display_data"
    },
    {
     "data": {
      "text/html": [
       "Find logs at: <code>./wandb/run-20250120_230436-e008jlc5/logs</code>"
      ],
      "text/plain": [
       "<IPython.core.display.HTML object>"
      ]
     },
     "metadata": {},
     "output_type": "display_data"
    }
   ],
   "source": [
    "wandb.finish()"
   ]
  }
 ],
 "metadata": {
  "kernelspec": {
   "display_name": "ML",
   "language": "python",
   "name": "python3"
  },
  "language_info": {
   "codemirror_mode": {
    "name": "ipython",
    "version": 3
   },
   "file_extension": ".py",
   "mimetype": "text/x-python",
   "name": "python",
   "nbconvert_exporter": "python",
   "pygments_lexer": "ipython3",
   "version": "3.12.2"
  }
 },
 "nbformat": 4,
 "nbformat_minor": 2
}
