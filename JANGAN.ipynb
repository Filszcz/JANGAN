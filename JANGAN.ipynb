{
 "cells": [
  {
   "cell_type": "code",
   "execution_count": 1,
   "metadata": {},
   "outputs": [],
   "source": [
    "import wandb\n",
    "import lightning as L\n",
    "import torch\n",
    "import PIL\n",
    "import os\n",
    "import torchvision.transforms.v2 as v2\n",
    "from PIL import Image\n",
    "from lightning.pytorch.loggers import WandbLogger\n",
    "import datetime\n",
    "from torch.optim.lr_scheduler import ReduceLROnPlateau\n",
    "from torch.utils.data import DataLoader, Dataset\n",
    "from torchvision.utils import save_image\n",
    "import torch.nn as nn\n",
    "import torch.nn.functional as F\n",
    "import numpy as np\n"
   ]
  },
  {
   "cell_type": "code",
   "execution_count": 204,
   "metadata": {},
   "outputs": [
    {
     "data": {
      "text/plain": [
       "'\\nSources:\\nLightning GAN implementation\\nhttps://lightning.ai/docs/pytorch/stable/notebooks/lightning_examples/basic-gan.html\\n\\nWGAN paper\\nhttps://arxiv.org/abs/1701.07875\\n\\nStyleGAN2 paper\\nhttps://arxiv.org/abs/1912.04958\\n\\n\\n\\n'"
      ]
     },
     "execution_count": 204,
     "metadata": {},
     "output_type": "execute_result"
    }
   ],
   "source": [
    "\"\"\"\n",
    "Sources:\n",
    "Lightning GAN implementation\n",
    "https://lightning.ai/docs/pytorch/stable/notebooks/lightning_examples/basic-gan.html\n",
    "\n",
    "WGAN paper\n",
    "https://arxiv.org/abs/1701.07875\n",
    "\n",
    "StyleGAN2 paper\n",
    "https://arxiv.org/abs/1912.04958\n",
    "\n",
    "\n",
    "\n",
    "\"\"\""
   ]
  },
  {
   "cell_type": "code",
   "execution_count": null,
   "metadata": {},
   "outputs": [],
   "source": [
    "# Hyperparameters\n",
    "BATCH_SIZE = 256\n",
    "EPOCHS = 1000"
   ]
  },
  {
   "cell_type": "code",
   "execution_count": null,
   "metadata": {},
   "outputs": [],
   "source": []
  },
  {
   "cell_type": "code",
   "execution_count": null,
   "metadata": {},
   "outputs": [
    {
     "data": {
      "text/html": [
       "Tracking run with wandb version 0.18.7"
      ],
      "text/plain": [
       "<IPython.core.display.HTML object>"
      ]
     },
     "metadata": {},
     "output_type": "display_data"
    },
    {
     "data": {
      "text/html": [
       "Run data is saved locally in <code>./wandb/run-20241130_134722-9e1z43mt</code>"
      ],
      "text/plain": [
       "<IPython.core.display.HTML object>"
      ]
     },
     "metadata": {},
     "output_type": "display_data"
    },
    {
     "data": {
      "text/html": [
       "Syncing run <strong><a href='https://wandb.ai/filip-szczepanski/JANGAN3/runs/9e1z43mt' target=\"_blank\">eternal-fog-14</a></strong> to <a href='https://wandb.ai/filip-szczepanski/JANGAN3' target=\"_blank\">Weights & Biases</a> (<a href='https://wandb.me/developer-guide' target=\"_blank\">docs</a>)<br/>"
      ],
      "text/plain": [
       "<IPython.core.display.HTML object>"
      ]
     },
     "metadata": {},
     "output_type": "display_data"
    },
    {
     "data": {
      "text/html": [
       " View project at <a href='https://wandb.ai/filip-szczepanski/JANGAN3' target=\"_blank\">https://wandb.ai/filip-szczepanski/JANGAN3</a>"
      ],
      "text/plain": [
       "<IPython.core.display.HTML object>"
      ]
     },
     "metadata": {},
     "output_type": "display_data"
    },
    {
     "data": {
      "text/html": [
       " View run at <a href='https://wandb.ai/filip-szczepanski/JANGAN3/runs/9e1z43mt' target=\"_blank\">https://wandb.ai/filip-szczepanski/JANGAN3/runs/9e1z43mt</a>"
      ],
      "text/plain": [
       "<IPython.core.display.HTML object>"
      ]
     },
     "metadata": {},
     "output_type": "display_data"
    }
   ],
   "source": [
    "# 47080269e7b1b5a51a89830cb24c495498237e77\n",
    "# wandb.Api(api_key=\"47080269e7b1b5a51a89830cb24c495498237e77\")\n",
    "wandb.login()\n",
    "\n",
    "wandb_logger = WandbLogger(project=\"JANGAN3\")\n",
    "wandb_logger.experiment.config[\"batch_size\"] = BATCH_SIZE\n"
   ]
  },
  {
   "cell_type": "code",
   "execution_count": 207,
   "metadata": {},
   "outputs": [],
   "source": [
    "class FFHQDataset(Dataset):\n",
    "    def __init__(self, img_dir, transform=None):\n",
    "        self.img_dir = img_dir\n",
    "        self.transform = transform\n",
    "        self.images = [f for f in os.listdir(img_dir) if f.endswith(('.png', '.jpg', '.jpeg'))]\n",
    "\n",
    "    def __len__(self):\n",
    "        return len(self.images)\n",
    "\n",
    "    def __getitem__(self, idx):\n",
    "        img_path = os.path.join(self.img_dir, self.images[idx])\n",
    "        image = Image.open(img_path).convert('RGB')\n",
    "        \n",
    "        if self.transform:\n",
    "            image = self.transform(image)\n",
    "        \n",
    "        return image\n",
    "\n",
    "\n",
    "# 256 batch size, 128x128 images, 8 cpu cores for batches\n",
    "class FFHQDataModule(L.LightningDataModule):\n",
    "    def __init__(self, data_dir: str = \"archive\", img_size: int = 128, batch_size: int = 256, num_workers: int = 8):\n",
    "        super().__init__()\n",
    "        self.data_dir = data_dir\n",
    "        self.img_size = img_size\n",
    "        self.batch_size = batch_size\n",
    "        self.num_workers = num_workers\n",
    "\n",
    "        self.transform = v2.Compose([            \n",
    "            # v2.CenterCrop(self.img_size),\n",
    "            v2.ToImage(),\n",
    "            v2.ToDtype(torch.float32),\n",
    "            v2.Resize(size=(64, 64)),\n",
    "            v2.RandomHorizontalFlip(p=0.5),\n",
    "            v2.Normalize(mean=[0.485, 0.456, 0.406], std=[0.229, 0.224, 0.225]),\n",
    "        ])\n",
    "\n",
    "    def setup(self, stage=None):\n",
    "        self.dataset = FFHQDataset(img_dir=self.data_dir, transform=self.transform)\n",
    "\n",
    "    def train_dataloader(self):\n",
    "        return DataLoader(\n",
    "            self.dataset,\n",
    "            batch_size=self.batch_size,\n",
    "            shuffle=True,\n",
    "            num_workers=self.num_workers,)"
   ]
  },
  {
   "cell_type": "code",
   "execution_count": 208,
   "metadata": {},
   "outputs": [],
   "source": [
    "# pick one of the architectures, comment out the other one"
   ]
  },
  {
   "cell_type": "code",
   "execution_count": 209,
   "metadata": {},
   "outputs": [],
   "source": [
    "\"\"\"\n",
    "Architecture 1\n",
    "\n",
    "WGAN - Fully conected GAN with a better loss function\n",
    "\"\"\"\n",
    "\n",
    "class Generator(nn.Module):\n",
    "    def __init__(self, img_shape = (3, 64, 64), latent_dim: int = 100):\n",
    "        super(Generator, self).__init__()\n",
    "\n",
    "        self.img_shape = img_shape\n",
    "\n",
    "        def block(in_feat, out_feat, normalize=True):\n",
    "            layers = [nn.Linear(in_feat, out_feat)]\n",
    "            if normalize:\n",
    "                layers.append(nn.BatchNorm1d(out_feat, 0.8))\n",
    "            layers.append(nn.LeakyReLU(0.2, inplace=True))\n",
    "            return layers\n",
    "\n",
    "        self.model = nn.Sequential(\n",
    "            *block(latent_dim, 128, normalize=False),\n",
    "            *block(128, 256),\n",
    "            *block(256, 512),\n",
    "            *block(512, 1024),\n",
    "            *block(1024, 2048),\n",
    "            *block(2048, 4096),\n",
    "            nn.Linear(4096, int(np.prod(img_shape))),\n",
    "            nn.Tanh()\n",
    "        )\n",
    "\n",
    "    def forward(self, z):\n",
    "        img = self.model(z)\n",
    "        img = img.view(img.shape[0], * self.img_shape)\n",
    "        return img\n",
    "\n",
    "\n",
    "class Discriminator(nn.Module):\n",
    "    def __init__(self, img_shape):\n",
    "        super(Discriminator, self).__init__()\n",
    "\n",
    "        self.img_shape = img_shape\n",
    "\n",
    "        self.model = nn.Sequential(\n",
    "            nn.Linear(int(np.prod(self.img_shape)), 2048),\n",
    "            nn.LeakyReLU(0.2, inplace=True),\n",
    "            nn.Linear(2048, 1024),\n",
    "            nn.LeakyReLU(0.2, inplace=True),\n",
    "            nn.Linear(1024, 512),\n",
    "            nn.LeakyReLU(0.2, inplace=True),\n",
    "            nn.Linear(512, 256),\n",
    "            nn.LeakyReLU(0.2, inplace=True),\n",
    "            nn.Linear(256, 1),\n",
    "        )\n",
    "\n",
    "    def forward(self, img):\n",
    "        img_flat = img.view(img.shape[0], -1)\n",
    "        validity = self.model(img_flat)\n",
    "        return validity"
   ]
  },
  {
   "cell_type": "code",
   "execution_count": 210,
   "metadata": {},
   "outputs": [
    {
     "data": {
      "text/plain": [
       "'\\nArchitecture 2\\n\\nStyleGAN2 - Convolution based GAN\\n'"
      ]
     },
     "execution_count": 210,
     "metadata": {},
     "output_type": "execute_result"
    }
   ],
   "source": [
    "\"\"\"\n",
    "Architecture 2\n",
    "\n",
    "StyleGAN2 - Convolution based GAN\n",
    "\"\"\"\n"
   ]
  },
  {
   "cell_type": "code",
   "execution_count": null,
   "metadata": {},
   "outputs": [],
   "source": [
    "class GAN(L.LightningModule):\n",
    "    def __init__(\n",
    "            self,\n",
    "            img_size: int = 64,\n",
    "            latent_dim: int = 100,\n",
    "            lr: float = 3e-3,\n",
    "            b1: float = 0,\n",
    "            b2: float = 0.999\n",
    "\n",
    "\n",
    "            ):\n",
    "        super().__init__()\n",
    "        self.save_hyperparameters()\n",
    "        self.automatic_optimization=False\n",
    "\n",
    "        self.latent_dim = latent_dim\n",
    "        self.lr = lr\n",
    "        self.b1 = b1\n",
    "        self.b2 = b2\n",
    "        self.img_size = img_size\n",
    "\n",
    "        self.generator = Generator(img_shape= (3, self.img_size, self.img_size), latent_dim=self.latent_dim)\n",
    "        self.discriminator = Discriminator(img_shape= (3, self.img_size, self.img_size))\n",
    "\n",
    "    def forward(self, z):\n",
    "        return self.generator(z)\n",
    "    \n",
    "\n",
    "    def loss_Discriminator(self, real_img, gen_img):\n",
    "        return -torch.mean(real_img) + torch.mean(gen_img)\n",
    "    \n",
    "\n",
    "    def loss_Generator(self, gen_img):\n",
    "        return -torch.mean(gen_img)\n",
    "\n",
    "    \n",
    "    def gradient_penalty(self, critic, real_samples, fake_samples, device=\"cuda\"):\n",
    "        \"\"\"\n",
    "        Calculate the gradient penalty for WGAN-GP (Wasserstein GAN with gradient penalty).\n",
    "        \n",
    "        Args:\n",
    "            critic (nn.Module): The critic network\n",
    "            real_samples (torch.Tensor): Batch of real samples\n",
    "            fake_samples (torch.Tensor): Batch of generated samples\n",
    "            device (str): Device to perform computations on\n",
    "            \n",
    "        Returns:\n",
    "            torch.Tensor: Gradient penalty term (scalar)\n",
    "        \"\"\"\n",
    "        # Random weight for interpolation between real and fake samples\n",
    "        alpha = torch.rand((real_samples.size(0), 1, 1, 1)).to(device)\n",
    "        \n",
    "        # Get random interpolation between real and fake samples\n",
    "        interpolates = (alpha * real_samples + ((1 - alpha) * fake_samples)).requires_grad_(True)\n",
    "        \n",
    "        # Calculate critic scores for interpolated images\n",
    "        d_interpolates = critic(interpolates)\n",
    "        \n",
    "        # Calculate gradients of scores with respect to interpolates\n",
    "        gradients = torch.autograd.grad(\n",
    "            outputs=d_interpolates,\n",
    "            inputs=interpolates,\n",
    "            grad_outputs=torch.ones_like(d_interpolates).to(device),\n",
    "            create_graph=True,\n",
    "            retain_graph=True,\n",
    "            only_inputs=True,\n",
    "        )[0]\n",
    "        \n",
    "        # Flatten gradients to easily calculate the norm\n",
    "        gradients = gradients.view(gradients.size(0), -1)\n",
    "        \n",
    "        # Calculate gradient penalty\n",
    "        gradient_penalty = ((gradients.norm(2, dim=1) - 1) ** 2).mean()\n",
    "        \n",
    "        return gradient_penalty\n",
    "\n",
    "    def training_step(self, batch):\n",
    "        imgs = batch\n",
    "        optimizer_g, optimizer_d = self.optimizers()\n",
    "\n",
    "        # train G\n",
    "        self.toggle_optimizer(optimizer_g)\n",
    "        \n",
    "        # Generate images for generator training\n",
    "        z_g = torch.randn(imgs.shape[0], self.hparams.latent_dim)\n",
    "        z_g = z_g.type_as(imgs)\n",
    "        fake_imgs_g = self(z_g)\n",
    "        \n",
    "        # Log images\n",
    "        if self.current_epoch % 10 == 0:\n",
    "            wandb.log({\"generated_images\": [wandb.Image(fake_imgs_g) for fake_imgs_g in fake_imgs_g[:25]],\n",
    "                       \"real_images\": [wandb.Image(imgs) for imgs in imgs[:25]]})\n",
    "\n",
    "\n",
    "        g_loss = self.loss_Generator(self.discriminator(fake_imgs_g))\n",
    "        self.log(\"g_loss\", g_loss)\n",
    "        self.manual_backward(g_loss)\n",
    "        optimizer_g.step()\n",
    "        optimizer_g.zero_grad()\n",
    "        self.untoggle_optimizer(optimizer_g)\n",
    "\n",
    "        # train D\n",
    "        self.toggle_optimizer(optimizer_d)\n",
    "\n",
    "        # Generate new images for discriminator training\n",
    "        z_d = torch.randn(imgs.shape[0], self.hparams.latent_dim)\n",
    "        z_d = z_d.type_as(imgs)\n",
    "        fake_imgs_d = self(z_d)\n",
    "\n",
    "        real_score = self.discriminator(imgs)\n",
    "        fake_score = self.discriminator(fake_imgs_d)\n",
    "        \n",
    "        gp = self.gradient_penalty(self.discriminator, imgs, fake_imgs_d)\n",
    "        loss_D = self.loss_Discriminator(real_score, fake_score) + 10 * gp\n",
    "        self.log(\"d_loss\", loss_D)\n",
    "        self.manual_backward(loss_D)\n",
    "        optimizer_d.step()\n",
    "        optimizer_d.zero_grad()\n",
    "        self.untoggle_optimizer(optimizer_d)\n",
    "\n",
    "        \n",
    "    def validation_step(self, batch, batch_idx):\n",
    "        pass\n",
    "\n",
    "    def configure_optimizers(self):\n",
    "\n",
    "        lr = self.hparams.lr\n",
    "        b1 = self.hparams.b1\n",
    "        b2 = self.hparams.b2\n",
    "\n",
    "        opt_g = torch.optim.Adam(self.generator.parameters(), lr=lr, betas=(b1, b2))\n",
    "        opt_d = torch.optim.Adam(self.discriminator.parameters(), lr=lr, betas=(b1, b2))\n",
    "        return [opt_g, opt_d], []"
   ]
  },
  {
   "cell_type": "code",
   "execution_count": 212,
   "metadata": {},
   "outputs": [],
   "source": [
    "# Training loop"
   ]
  },
  {
   "cell_type": "code",
   "execution_count": 213,
   "metadata": {},
   "outputs": [
    {
     "name": "stderr",
     "output_type": "stream",
     "text": [
      "GPU available: True (cuda), used: True\n",
      "TPU available: False, using: 0 TPU cores\n",
      "HPU available: False, using: 0 HPUs\n"
     ]
    }
   ],
   "source": [
    "# Trainer settings\n",
    "model = GAN()\n",
    "\n",
    "dm = FFHQDataModule()\n",
    "\n",
    "trainer = L.Trainer(\n",
    "    logger=wandb_logger,\n",
    "    max_epochs=EPOCHS,\n",
    "    accelerator=\"gpu\",\n",
    "    enable_checkpointing=True\n",
    "    \n",
    ")"
   ]
  },
  {
   "cell_type": "code",
   "execution_count": null,
   "metadata": {},
   "outputs": [
    {
     "name": "stderr",
     "output_type": "stream",
     "text": [
      "/home/fil/miniconda3/envs/ML/lib/python3.12/site-packages/lightning/pytorch/trainer/configuration_validator.py:70: You defined a `validation_step` but have no `val_dataloader`. Skipping val loop.\n",
      "LOCAL_RANK: 0 - CUDA_VISIBLE_DEVICES: [0]\n",
      "\n",
      "  | Name          | Type          | Params | Mode \n",
      "--------------------------------------------------------\n",
      "0 | generator     | Generator     | 61.6 M | train\n",
      "1 | discriminator | Discriminator | 27.9 M | train\n",
      "--------------------------------------------------------\n",
      "89.5 M    Trainable params\n",
      "0         Non-trainable params\n",
      "89.5 M    Total params\n",
      "357.908   Total estimated model params size (MB)\n",
      "32        Modules in train mode\n",
      "0         Modules in eval mode\n"
     ]
    },
    {
     "name": "stdout",
     "output_type": "stream",
     "text": [
      "Epoch 0:   0%|          | 0/274 [11:33<?, ?it/s]6.01it/s, v_num=43mt]\n",
      "Epoch 0:   0%|          | 0/274 [11:22<?, ?it/s]\n",
      "Epoch 0:   0%|          | 0/274 [03:41<?, ?it/s]\n",
      "Epoch 0:   7%|▋         | 19/274 [00:03<00:46,  5.50it/s, v_num=43mt]"
     ]
    },
    {
     "name": "stderr",
     "output_type": "stream",
     "text": [
      "/home/fil/miniconda3/envs/ML/lib/python3.12/site-packages/wandb/sdk/wandb_run.py:2374: UserWarning: Run (deks465q) is finished. The call to `_console_raw_callback` will be ignored. Please make sure that you are using an active run.\n",
      "  lambda data: self._console_raw_callback(\"stdout\", data),\n",
      "/home/fil/miniconda3/envs/ML/lib/python3.12/site-packages/wandb/sdk/wandb_run.py:2374: UserWarning: Run (jpva8yam) is finished. The call to `_console_raw_callback` will be ignored. Please make sure that you are using an active run.\n",
      "  lambda data: self._console_raw_callback(\"stdout\", data),\n",
      "/home/fil/miniconda3/envs/ML/lib/python3.12/site-packages/wandb/sdk/wandb_run.py:2374: UserWarning: Run (kr71rlmb) is finished. The call to `_console_raw_callback` will be ignored. Please make sure that you are using an active run.\n",
      "  lambda data: self._console_raw_callback(\"stdout\", data),\n"
     ]
    },
    {
     "name": "stdout",
     "output_type": "stream",
     "text": [
      "Epoch 20:  47%|████▋     | 130/274 [00:17<00:19,  7.37it/s, v_num=43mt]"
     ]
    }
   ],
   "source": [
    "# Run\n",
    "trainer.fit(model, dm)"
   ]
  },
  {
   "cell_type": "code",
   "execution_count": 2,
   "metadata": {},
   "outputs": [],
   "source": [
    "wandb.finish()"
   ]
  },
  {
   "cell_type": "code",
   "execution_count": null,
   "metadata": {},
   "outputs": [],
   "source": []
  },
  {
   "cell_type": "code",
   "execution_count": null,
   "metadata": {},
   "outputs": [],
   "source": []
  },
  {
   "cell_type": "code",
   "execution_count": null,
   "metadata": {},
   "outputs": [],
   "source": []
  }
 ],
 "metadata": {
  "kernelspec": {
   "display_name": "ML",
   "language": "python",
   "name": "python3"
  },
  "language_info": {
   "codemirror_mode": {
    "name": "ipython",
    "version": 3
   },
   "file_extension": ".py",
   "mimetype": "text/x-python",
   "name": "python",
   "nbconvert_exporter": "python",
   "pygments_lexer": "ipython3",
   "version": "3.12.2"
  }
 },
 "nbformat": 4,
 "nbformat_minor": 2
}
